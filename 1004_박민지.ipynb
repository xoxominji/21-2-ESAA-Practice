{
 "cells": [
  {
   "cell_type": "markdown",
   "id": "3913b35e",
   "metadata": {},
   "source": [
    "# 시계열 데이터\n",
    "## 12-1 datetime 오브젝트 (p.241~242)"
   ]
  },
  {
   "cell_type": "code",
   "execution_count": 1,
   "id": "483fd67f",
   "metadata": {},
   "outputs": [],
   "source": [
    "from datetime import datetime"
   ]
  },
  {
   "cell_type": "code",
   "execution_count": 2,
   "id": "d4fd406a",
   "metadata": {},
   "outputs": [
    {
     "name": "stdout",
     "output_type": "stream",
     "text": [
      "2021-10-03 10:41:28.703111\n"
     ]
    }
   ],
   "source": [
    "now1 = datetime.now()\n",
    "print(now1)"
   ]
  },
  {
   "cell_type": "code",
   "execution_count": 3,
   "id": "f18d9087",
   "metadata": {},
   "outputs": [
    {
     "name": "stdout",
     "output_type": "stream",
     "text": [
      "2021-10-03 10:41:28.717075\n"
     ]
    }
   ],
   "source": [
    "now2 = datetime.today()\n",
    "print(now2)"
   ]
  },
  {
   "cell_type": "code",
   "execution_count": 4,
   "id": "f6df2ae6",
   "metadata": {},
   "outputs": [
    {
     "name": "stdout",
     "output_type": "stream",
     "text": [
      "2021-10-03 10:41:28.737020\n",
      "1970-01-01 00:00:00\n",
      "1970-12-12 13:24:34\n"
     ]
    }
   ],
   "source": [
    "t1 = datetime.now()\n",
    "t2 = datetime(1970, 1, 1)\n",
    "t3 = datetime(1970, 12, 12, 13, 24, 34)\n",
    "print(t1)\n",
    "print(t2)\n",
    "print(t3)"
   ]
  },
  {
   "cell_type": "code",
   "execution_count": 5,
   "id": "8de8265b",
   "metadata": {},
   "outputs": [
    {
     "name": "stdout",
     "output_type": "stream",
     "text": [
      "18903 days, 10:41:28.737020\n",
      "<class 'datetime.timedelta'>\n"
     ]
    }
   ],
   "source": [
    "diff1 = t1 - t2\n",
    "print(diff1)\n",
    "print(type(diff1))"
   ]
  },
  {
   "cell_type": "code",
   "execution_count": 6,
   "id": "2dccf299",
   "metadata": {},
   "outputs": [
    {
     "name": "stdout",
     "output_type": "stream",
     "text": [
      "-18904 days, 13:18:31.262980\n",
      "<class 'datetime.timedelta'>\n"
     ]
    }
   ],
   "source": [
    "diff2 = t2- t1\n",
    "print(diff2)\n",
    "print(type(diff2))"
   ]
  },
  {
   "cell_type": "markdown",
   "id": "423bbb7c",
   "metadata": {},
   "source": [
    "## 12-2 사례별 시계열 데이터 계산하기 (p.256-263)\n",
    "### 테슬라 주식 데이터로 시간 계산"
   ]
  },
  {
   "cell_type": "code",
   "execution_count": 7,
   "id": "dca9c6dc",
   "metadata": {},
   "outputs": [],
   "source": [
    "import pandas as pd"
   ]
  },
  {
   "cell_type": "code",
   "execution_count": 8,
   "id": "f471e283",
   "metadata": {},
   "outputs": [],
   "source": [
    "pd.core.common.is_list_like = pd.api.types.is_list_like\n",
    "import pandas_datareader as pdr"
   ]
  },
  {
   "cell_type": "code",
   "execution_count": 9,
   "id": "1c2d9da9",
   "metadata": {},
   "outputs": [],
   "source": [
    "#tesla에 데이터프레임 저장 \n",
    "tesla = pdr.get_data_quandl('TSLA', api_key = 'sq2E_pERAQaw6dXwzsZR')\n",
    "#tesla에 저장된 데이터프레임 파일로 저장\n",
    "tesla.to_csv(r'C:\\Users\\minjipark\\21-2 ESAA\\doit_pandas-master\\data\\tesla_stock_quandl.csv')"
   ]
  },
  {
   "cell_type": "code",
   "execution_count": 10,
   "id": "3483eb17",
   "metadata": {},
   "outputs": [
    {
     "name": "stdout",
     "output_type": "stream",
     "text": [
      "              Open    High     Low   Close      Volume  ExDividend  \\\n",
      "Date                                                                 \n",
      "2018-03-27  304.00  304.27  277.18  279.18  13696168.0         0.0   \n",
      "2018-03-26  307.34  307.59  291.36  304.18   8324639.0         0.0   \n",
      "2018-03-23  311.25  311.61  300.45  301.54   6600538.0         0.0   \n",
      "2018-03-22  313.89  318.82  308.18  309.10   4914307.0         0.0   \n",
      "2018-03-21  310.25  322.44  310.19  316.53   5927881.0         0.0   \n",
      "\n",
      "            SplitRatio  AdjOpen  AdjHigh  AdjLow  AdjClose   AdjVolume  \n",
      "Date                                                                    \n",
      "2018-03-27         1.0   304.00   304.27  277.18    279.18  13696168.0  \n",
      "2018-03-26         1.0   307.34   307.59  291.36    304.18   8324639.0  \n",
      "2018-03-23         1.0   311.25   311.61  300.45    301.54   6600538.0  \n",
      "2018-03-22         1.0   313.89   318.82  308.18    309.10   4914307.0  \n",
      "2018-03-21         1.0   310.25   322.44  310.19    316.53   5927881.0  \n"
     ]
    }
   ],
   "source": [
    "print(tesla.head())\n",
    "#Date열: 문자열"
   ]
  },
  {
   "cell_type": "code",
   "execution_count": 11,
   "id": "7bf95f96",
   "metadata": {},
   "outputs": [
    {
     "name": "stdout",
     "output_type": "stream",
     "text": [
      "<class 'pandas.core.frame.DataFrame'>\n",
      "RangeIndex: 371 entries, 0 to 370\n",
      "Data columns (total 13 columns):\n",
      " #   Column      Non-Null Count  Dtype         \n",
      "---  ------      --------------  -----         \n",
      " 0   Date        371 non-null    datetime64[ns]\n",
      " 1   Open        371 non-null    float64       \n",
      " 2   High        371 non-null    float64       \n",
      " 3   Low         371 non-null    float64       \n",
      " 4   Close       371 non-null    float64       \n",
      " 5   Volume      371 non-null    float64       \n",
      " 6   ExDividend  371 non-null    float64       \n",
      " 7   SplitRatio  371 non-null    float64       \n",
      " 8   AdjOpen     371 non-null    float64       \n",
      " 9   AdjHigh     371 non-null    float64       \n",
      " 10  AdjLow      371 non-null    float64       \n",
      " 11  AdjClose    371 non-null    float64       \n",
      " 12  AdjVolume   371 non-null    float64       \n",
      "dtypes: datetime64[ns](1), float64(12)\n",
      "memory usage: 37.8 KB\n",
      "None\n"
     ]
    }
   ],
   "source": [
    "tesla = pd.read_csv(r'C:\\Users\\minjipark\\21-2 ESAA\\doit_pandas-master\\data\\tesla_stock_quandl.csv', parse_dates=[0])\n",
    "print(tesla.info())"
   ]
  },
  {
   "cell_type": "code",
   "execution_count": 12,
   "id": "65b620ac",
   "metadata": {},
   "outputs": [
    {
     "name": "stdout",
     "output_type": "stream",
     "text": [
      "Empty DataFrame\n",
      "Columns: [Date, Open, High, Low, Close, Volume, ExDividend, SplitRatio, AdjOpen, AdjHigh, AdjLow, AdjClose, AdjVolume]\n",
      "Index: []\n"
     ]
    }
   ],
   "source": [
    "print(tesla.loc[(tesla.Date.dt.year == 2010) & (tesla.Date.dt.month == 6)])"
   ]
  },
  {
   "cell_type": "markdown",
   "id": "b2b4f295",
   "metadata": {},
   "source": [
    "### datetime 오브젝트와 인덱스 - DatetimeIndex"
   ]
  },
  {
   "cell_type": "code",
   "execution_count": 13,
   "id": "d5411549",
   "metadata": {},
   "outputs": [
    {
     "name": "stdout",
     "output_type": "stream",
     "text": [
      "DatetimeIndex(['2018-03-27', '2018-03-26', '2018-03-23', '2018-03-22',\n",
      "               '2018-03-21', '2018-03-20', '2018-03-19', '2018-03-16',\n",
      "               '2018-03-15', '2018-03-14',\n",
      "               ...\n",
      "               '2016-10-17', '2016-10-14', '2016-10-13', '2016-10-12',\n",
      "               '2016-10-11', '2016-10-10', '2016-10-07', '2016-10-06',\n",
      "               '2016-10-05', '2016-10-04'],\n",
      "              dtype='datetime64[ns]', name='Date', length=371, freq=None)\n"
     ]
    }
   ],
   "source": [
    "tesla.index = tesla['Date']\n",
    "print(tesla.index)"
   ]
  },
  {
   "cell_type": "code",
   "execution_count": 14,
   "id": "291eb066",
   "metadata": {},
   "outputs": [
    {
     "name": "stdout",
     "output_type": "stream",
     "text": [
      "                 Date    Open    High       Low   Close\n",
      "Date                                                   \n",
      "2016-12-30 2016-12-30  216.30  217.50  211.6800  213.69\n",
      "2016-12-29 2016-12-29  218.56  219.20  214.1225  214.68\n",
      "2016-12-28 2016-12-28  221.53  223.80  217.2000  219.74\n",
      "2016-12-27 2016-12-27  214.88  222.25  214.4200  219.53\n",
      "2016-12-23 2016-12-23  208.00  213.45  207.7100  213.34\n"
     ]
    },
    {
     "name": "stderr",
     "output_type": "stream",
     "text": [
      "C:\\Users\\MINJIP~1\\AppData\\Local\\Temp/ipykernel_7156/2141854018.py:2: FutureWarning: Indexing a DataFrame with a datetimelike index using a single string to slice the rows, like `frame[string]`, is deprecated and will be removed in a future version. Use `frame.loc[string]` instead.\n",
      "  print(tesla['2016'].iloc[:5, :5])\n"
     ]
    }
   ],
   "source": [
    "#2016년의 데이터 5개 + 5칼럼\n",
    "print(tesla['2016'].iloc[:5, :5])"
   ]
  },
  {
   "cell_type": "code",
   "execution_count": 15,
   "id": "271f651b",
   "metadata": {},
   "outputs": [
    {
     "name": "stdout",
     "output_type": "stream",
     "text": [
      "                 Date     Open      High       Low   Close\n",
      "Date                                                      \n",
      "2017-06-30 2017-06-30  363.710  366.7674  359.6187  361.61\n",
      "2017-06-29 2017-06-29  370.610  371.0000  354.1000  360.75\n",
      "2017-06-28 2017-06-28  366.680  371.7400  362.5200  371.24\n",
      "2017-06-27 2017-06-27  376.400  376.4000  362.0200  362.37\n",
      "2017-06-26 2017-06-26  386.690  386.9500  373.1000  377.49\n",
      "2017-06-23 2017-06-23  382.450  386.9900  379.3450  383.45\n",
      "2017-06-22 2017-06-22  377.990  385.0000  373.5700  382.61\n",
      "2017-06-21 2017-06-21  374.350  376.9900  368.0200  376.40\n",
      "2017-06-20 2017-06-20  376.670  378.8800  369.7300  372.24\n",
      "2017-06-19 2017-06-19  375.000  376.7000  367.8000  369.80\n",
      "2017-06-16 2017-06-16  377.975  378.0100  370.1000  371.40\n",
      "2017-06-15 2017-06-15  372.500  375.4600  366.4900  375.34\n",
      "2017-06-14 2017-06-14  381.085  384.2500  376.3100  380.66\n",
      "2017-06-13 2017-06-13  367.620  376.0000  366.6100  375.95\n",
      "2017-06-12 2017-06-12  357.990  364.5000  350.6200  359.01\n",
      "2017-06-09 2017-06-09  374.420  376.8700  354.8000  357.32\n",
      "2017-06-08 2017-06-08  363.750  371.9000  360.2200  370.00\n",
      "2017-06-07 2017-06-07  356.340  360.5000  355.1400  359.65\n",
      "2017-06-06 2017-06-06  344.700  359.4929  339.9700  352.85\n",
      "2017-06-05 2017-06-05  338.500  348.4400  334.2100  347.32\n",
      "2017-06-02 2017-06-02  339.770  342.8800  335.9300  339.85\n",
      "2017-06-01 2017-06-01  344.000  344.8800  337.2900  340.37\n"
     ]
    },
    {
     "name": "stderr",
     "output_type": "stream",
     "text": [
      "C:\\Users\\MINJIP~1\\AppData\\Local\\Temp/ipykernel_7156/1140878962.py:1: FutureWarning: Indexing a DataFrame with a datetimelike index using a single string to slice the rows, like `frame[string]`, is deprecated and will be removed in a future version. Use `frame.loc[string]` instead.\n",
      "  print(tesla['2017-06'].iloc[:, :5])\n"
     ]
    }
   ],
   "source": [
    "print(tesla['2017-06'].iloc[:, :5])"
   ]
  },
  {
   "cell_type": "markdown",
   "id": "d33cf551",
   "metadata": {},
   "source": [
    "### 시간 간격과 인덱스 - TimedeltaIndex"
   ]
  },
  {
   "cell_type": "code",
   "execution_count": 16,
   "id": "61f62ff8",
   "metadata": {},
   "outputs": [
    {
     "name": "stdout",
     "output_type": "stream",
     "text": [
      "                 Date    Open    High     Low   Close      Volume  ExDividend  \\\n",
      "Date                                                                            \n",
      "2018-03-27 2018-03-27  304.00  304.27  277.18  279.18  13696168.0         0.0   \n",
      "2018-03-26 2018-03-26  307.34  307.59  291.36  304.18   8324639.0         0.0   \n",
      "2018-03-23 2018-03-23  311.25  311.61  300.45  301.54   6600538.0         0.0   \n",
      "2018-03-22 2018-03-22  313.89  318.82  308.18  309.10   4914307.0         0.0   \n",
      "2018-03-21 2018-03-21  310.25  322.44  310.19  316.53   5927881.0         0.0   \n",
      "\n",
      "            SplitRatio  AdjOpen  AdjHigh  AdjLow  AdjClose   AdjVolume  \\\n",
      "Date                                                                     \n",
      "2018-03-27         1.0   304.00   304.27  277.18    279.18  13696168.0   \n",
      "2018-03-26         1.0   307.34   307.59  291.36    304.18   8324639.0   \n",
      "2018-03-23         1.0   311.25   311.61  300.45    301.54   6600538.0   \n",
      "2018-03-22         1.0   313.89   318.82  308.18    309.10   4914307.0   \n",
      "2018-03-21         1.0   310.25   322.44  310.19    316.53   5927881.0   \n",
      "\n",
      "           ref_date  \n",
      "Date                 \n",
      "2018-03-27 539 days  \n",
      "2018-03-26 538 days  \n",
      "2018-03-23 535 days  \n",
      "2018-03-22 534 days  \n",
      "2018-03-21 533 days  \n"
     ]
    }
   ],
   "source": [
    "tesla['ref_date'] = tesla['Date'] - tesla['Date'].min()\n",
    "print(tesla.head())"
   ]
  },
  {
   "cell_type": "code",
   "execution_count": 17,
   "id": "2cf82468",
   "metadata": {},
   "outputs": [
    {
     "name": "stdout",
     "output_type": "stream",
     "text": [
      "               Date    Open    High     Low   Close\n",
      "ref_date                                           \n",
      "539 days 2018-03-27  304.00  304.27  277.18  279.18\n",
      "538 days 2018-03-26  307.34  307.59  291.36  304.18\n",
      "535 days 2018-03-23  311.25  311.61  300.45  301.54\n",
      "534 days 2018-03-22  313.89  318.82  308.18  309.10\n",
      "533 days 2018-03-21  310.25  322.44  310.19  316.53\n"
     ]
    }
   ],
   "source": [
    "tesla.index = tesla['ref_date']\n",
    "print(tesla.iloc[:5, :5])"
   ]
  },
  {
   "cell_type": "code",
   "execution_count": 18,
   "id": "d1d0d536",
   "metadata": {},
   "outputs": [
    {
     "name": "stdout",
     "output_type": "stream",
     "text": [
      "               Date    Open      High     Low   Close\n",
      "ref_date                                             \n",
      "3 days   2016-10-07  201.00  201.3200  195.80  196.61\n",
      "2 days   2016-10-06  202.46  204.2099  200.21  201.00\n",
      "1 days   2016-10-05  212.24  213.1500  208.12  208.46\n",
      "0 days   2016-10-04  213.10  213.3200  208.82  211.41\n"
     ]
    }
   ],
   "source": [
    "print(tesla['5 days':].iloc[:5, :5])"
   ]
  }
 ],
 "metadata": {
  "kernelspec": {
   "display_name": "Python 3 (ipykernel)",
   "language": "python",
   "name": "python3"
  },
  "language_info": {
   "codemirror_mode": {
    "name": "ipython",
    "version": 3
   },
   "file_extension": ".py",
   "mimetype": "text/x-python",
   "name": "python",
   "nbconvert_exporter": "python",
   "pygments_lexer": "ipython3",
   "version": "3.8.11"
  }
 },
 "nbformat": 4,
 "nbformat_minor": 5
}
