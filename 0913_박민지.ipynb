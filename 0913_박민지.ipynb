{
 "cells": [
  {
   "cell_type": "markdown",
   "id": "12f52e04",
   "metadata": {},
   "source": [
    "# 넘파이"
   ]
  },
  {
   "cell_type": "markdown",
   "id": "0e698a05",
   "metadata": {},
   "source": [
    "## 넘파이 ndarray 개요"
   ]
  },
  {
   "cell_type": "code",
   "execution_count": 1,
   "id": "80f63f2a",
   "metadata": {},
   "outputs": [],
   "source": [
    "import numpy as np"
   ]
  },
  {
   "cell_type": "code",
   "execution_count": 16,
   "id": "8bb84a02",
   "metadata": {},
   "outputs": [
    {
     "name": "stdout",
     "output_type": "stream",
     "text": [
      "arrray1 type: <class 'numpy.ndarray'>\n",
      "arrary1 array 형태: (3,)\n",
      "array2 type: <class 'numpy.ndarray'>\n",
      "array2 array 형태: (2, 3)\n",
      "array3 type: <class 'numpy.ndarray'>\n",
      "arrary3 array 형태: (1, 3)\n"
     ]
    }
   ],
   "source": [
    "array1=np.array([1,2,3])\n",
    "print('arrray1 type:', type(array1))\n",
    "print('arrary1 array 형태:', array1.shape) #1차원, 3 데이터\n",
    "\n",
    "array2 = np.array([[1,2,3], [2,3,4]])\n",
    "print('array2 type:', type(array2))\n",
    "print('array2 array 형태:', array2.shape)\n",
    "\n",
    "array3 = np.array([[1,2,3]])\n",
    "print('array3 type:', type(array3))\n",
    "print('arrary3 array 형태:', array3.shape) #2차원 1*3=3데이터"
   ]
  },
  {
   "cell_type": "code",
   "execution_count": 18,
   "id": "c63cfa2b",
   "metadata": {},
   "outputs": [
    {
     "name": "stdout",
     "output_type": "stream",
     "text": [
      "array1: 1차원, array2: 2차원, array3:  2차원\n"
     ]
    }
   ],
   "source": [
    "print('array1: {:0}차원, array2: {:1}차원, array3: {:2}차원'.format(array1.ndim, array2.ndim, array3.ndim))"
   ]
  },
  {
   "cell_type": "markdown",
   "id": "01d4d703",
   "metadata": {},
   "source": [
    "## ndarray의 데이터 타입"
   ]
  },
  {
   "cell_type": "code",
   "execution_count": 22,
   "id": "0ca20fe4",
   "metadata": {},
   "outputs": [
    {
     "name": "stdout",
     "output_type": "stream",
     "text": [
      "<class 'list'>\n",
      "<class 'numpy.ndarray'>\n",
      "[1 2 3] int32\n",
      "['1' '2' 'test'] <U11\n",
      "[1. 2. 3.] float64\n"
     ]
    }
   ],
   "source": [
    "list1 = [1, 2, 3]\n",
    "print(type(list1))\n",
    "array1 = np.array(list1)\n",
    "print(type(array1))\n",
    "print(array1, array1.dtype)\n",
    "\n",
    "list2 = [1, 2, 'test']\n",
    "array2 = np.array(list2)\n",
    "print(array2, array2.dtype) #더 큰 데이터타입으로 변환\n",
    "list3 = [1, 2, 3.0]\n",
    "array3 = np.array(list3)\n",
    "print(array3, array3.dtype)\n"
   ]
  },
  {
   "cell_type": "code",
   "execution_count": 26,
   "id": "05a95f3d",
   "metadata": {},
   "outputs": [
    {
     "name": "stdout",
     "output_type": "stream",
     "text": [
      "[1. 2. 3.] float64\n",
      "[1 2 3] int32\n",
      "[1 2 3] int32\n"
     ]
    }
   ],
   "source": [
    "array_int = np.array([1, 2, 3])\n",
    "array_float = array_int.astype('float64')\n",
    "print(array_float, array_float.dtype)\n",
    "\n",
    "array_int1 = array_float.astype('int32')\n",
    "print(array_int1, array_int1.dtype)\n",
    "\n",
    "array_fload1 = np.array([1.1, 2.1, 3.1])\n",
    "array_int2 = array_fload1.astype('int32')\n",
    "print(array_int2, array_int2.dtype)"
   ]
  },
  {
   "cell_type": "markdown",
   "id": "2f6dd87d",
   "metadata": {},
   "source": [
    "## ndarray를 편리하게 생성하기\n",
    "### arange()"
   ]
  },
  {
   "cell_type": "code",
   "execution_count": 29,
   "id": "c54391f0",
   "metadata": {},
   "outputs": [
    {
     "name": "stdout",
     "output_type": "stream",
     "text": [
      "[0 1 2 3 4 5 6 7 8 9]\n",
      "int32 (10,)\n"
     ]
    }
   ],
   "source": [
    "sequence_array = np.arange(10) #0이상 10미만, start값 지정 가능\n",
    "print(sequence_array)\n",
    "print(sequence_array.dtype, sequence_array.shape)"
   ]
  },
  {
   "cell_type": "markdown",
   "id": "e88b48e9",
   "metadata": {},
   "source": [
    "### zeros()"
   ]
  },
  {
   "cell_type": "code",
   "execution_count": 31,
   "id": "260a8ae2",
   "metadata": {},
   "outputs": [
    {
     "name": "stdout",
     "output_type": "stream",
     "text": [
      "[[0 0]\n",
      " [0 0]\n",
      " [0 0]]\n",
      "int32 (3, 2)\n"
     ]
    }
   ],
   "source": [
    "zero_array = np.zeros((3,2), dtype='int32')\n",
    "print(zero_array)\n",
    "print(zero_array.dtype, zero_array.shape)"
   ]
  },
  {
   "cell_type": "markdown",
   "id": "73f6d902",
   "metadata": {},
   "source": [
    "### ones()"
   ]
  },
  {
   "cell_type": "code",
   "execution_count": 32,
   "id": "588e6961",
   "metadata": {},
   "outputs": [
    {
     "name": "stdout",
     "output_type": "stream",
     "text": [
      "[[1. 1.]\n",
      " [1. 1.]\n",
      " [1. 1.]]\n",
      "float64 (3, 2)\n"
     ]
    }
   ],
   "source": [
    "one_array = np.ones((3,2)) #default dytpe: float64\n",
    "print(one_array)\n",
    "print(one_array.dtype, one_array.shape)"
   ]
  },
  {
   "cell_type": "markdown",
   "id": "4d86a96e",
   "metadata": {},
   "source": [
    "## ndarray의 차원과 크기를 변경하는 reshape()"
   ]
  },
  {
   "cell_type": "code",
   "execution_count": 34,
   "id": "212bd3c0",
   "metadata": {},
   "outputs": [
    {
     "name": "stdout",
     "output_type": "stream",
     "text": [
      "array1:\n",
      " [0 1 2 3 4 5 6 7 8 9]\n",
      "array2:\n",
      " [[0 1 2 3 4]\n",
      " [5 6 7 8 9]]\n",
      "array3:\n",
      " [[0 1]\n",
      " [2 3]\n",
      " [4 5]\n",
      " [6 7]\n",
      " [8 9]]\n"
     ]
    }
   ],
   "source": [
    "array1 = np.arange(10)\n",
    "print('array1:\\n', array1)\n",
    "\n",
    "array2 = array1.reshape(2,5)\n",
    "print('array2:\\n', array2)\n",
    "\n",
    "array3 = array1.reshape(5,2)\n",
    "print('array3:\\n', array3)"
   ]
  },
  {
   "cell_type": "code",
   "execution_count": 35,
   "id": "e24aace0",
   "metadata": {},
   "outputs": [
    {
     "ename": "ValueError",
     "evalue": "cannot reshape array of size 10 into shape (4,3)",
     "output_type": "error",
     "traceback": [
      "\u001b[1;31m---------------------------------------------------------------------------\u001b[0m",
      "\u001b[1;31mValueError\u001b[0m                                Traceback (most recent call last)",
      "\u001b[1;32mC:\\Users\\MINJIP~1\\AppData\\Local\\Temp/ipykernel_20192/663885351.py\u001b[0m in \u001b[0;36m<module>\u001b[1;34m\u001b[0m\n\u001b[1;32m----> 1\u001b[1;33m \u001b[0marray1\u001b[0m\u001b[1;33m.\u001b[0m\u001b[0mreshape\u001b[0m\u001b[1;33m(\u001b[0m\u001b[1;36m4\u001b[0m\u001b[1;33m,\u001b[0m\u001b[1;36m3\u001b[0m\u001b[1;33m)\u001b[0m \u001b[1;31m#10->12 불가\u001b[0m\u001b[1;33m\u001b[0m\u001b[1;33m\u001b[0m\u001b[0m\n\u001b[0m",
      "\u001b[1;31mValueError\u001b[0m: cannot reshape array of size 10 into shape (4,3)"
     ]
    }
   ],
   "source": [
    "array1.reshape(4,3) #10->12 불가"
   ]
  },
  {
   "cell_type": "code",
   "execution_count": 37,
   "id": "2dee3db2",
   "metadata": {},
   "outputs": [
    {
     "name": "stdout",
     "output_type": "stream",
     "text": [
      "[0 1 2 3 4 5 6 7 8 9]\n",
      "array2 shape: (2, 5)\n",
      "array3 shape: (5, 2)\n"
     ]
    }
   ],
   "source": [
    "array1 = np.arange(10)\n",
    "print(array1)\n",
    "\n",
    "#-1를 reshape의 인자로 적용: 호환되는 shape로 변환\n",
    "array2 = array1.reshape(-1,5) \n",
    "print('array2 shape:', array2.shape)\n",
    "\n",
    "array3 = array1.reshape(5,-1)\n",
    "print('array3 shape:', array3.shape)"
   ]
  },
  {
   "cell_type": "code",
   "execution_count": 39,
   "id": "ef1f4858",
   "metadata": {},
   "outputs": [
    {
     "ename": "ValueError",
     "evalue": "cannot reshape array of size 10 into shape (4)",
     "output_type": "error",
     "traceback": [
      "\u001b[1;31m---------------------------------------------------------------------------\u001b[0m",
      "\u001b[1;31mValueError\u001b[0m                                Traceback (most recent call last)",
      "\u001b[1;32mC:\\Users\\MINJIP~1\\AppData\\Local\\Temp/ipykernel_20192/3647605528.py\u001b[0m in \u001b[0;36m<module>\u001b[1;34m\u001b[0m\n\u001b[0;32m      1\u001b[0m \u001b[0marray1\u001b[0m \u001b[1;33m=\u001b[0m \u001b[0mnp\u001b[0m\u001b[1;33m.\u001b[0m\u001b[0marange\u001b[0m\u001b[1;33m(\u001b[0m\u001b[1;36m10\u001b[0m\u001b[1;33m)\u001b[0m\u001b[1;33m\u001b[0m\u001b[1;33m\u001b[0m\u001b[0m\n\u001b[1;32m----> 2\u001b[1;33m \u001b[0marray4\u001b[0m \u001b[1;33m=\u001b[0m \u001b[0marray1\u001b[0m\u001b[1;33m.\u001b[0m\u001b[0mreshape\u001b[0m\u001b[1;33m(\u001b[0m\u001b[1;33m-\u001b[0m\u001b[1;36m1\u001b[0m\u001b[1;33m,\u001b[0m\u001b[1;36m4\u001b[0m\u001b[1;33m)\u001b[0m \u001b[1;31m#10는 4로 나누어떨어지지 않음\u001b[0m\u001b[1;33m\u001b[0m\u001b[1;33m\u001b[0m\u001b[0m\n\u001b[0m",
      "\u001b[1;31mValueError\u001b[0m: cannot reshape array of size 10 into shape (4)"
     ]
    }
   ],
   "source": [
    "array1 = np.arange(10)\n",
    "array4 = array1.reshape(-1,4) #10는 4로 나누어떨어지지 않음"
   ]
  },
  {
   "cell_type": "code",
   "execution_count": 47,
   "id": "263cd4d1",
   "metadata": {},
   "outputs": [
    {
     "name": "stdout",
     "output_type": "stream",
     "text": [
      "array3d:\n",
      " [[[0, 1], [2, 3]], [[4, 5], [6, 7]]]\n",
      "array5:\n",
      " [[0], [1], [2], [3], [4], [5], [6], [7]]\n",
      "array5 shape: (8, 1)\n",
      "array6:\n",
      " [[0], [1], [2], [3], [4], [5], [6], [7]]\n",
      "array6 shape: (8, 1)\n"
     ]
    }
   ],
   "source": [
    "array1 = np.arange(8)\n",
    "array3d = array1.reshape((2, 2, 2))\n",
    "print('array3d:\\n', array3d.tolist())\n",
    "\n",
    "#reshape(-1,1): 3차원 -> 2차원\n",
    "array5 = array3d.reshape(-1,1)\n",
    "print('array5:\\n', array5.tolist())\n",
    "print('array5 shape:', array5.shape)\n",
    "\n",
    "#reshape(-1,1): 1차원 -> 2차원\n",
    "array6 = array1.reshape(-1,1)\n",
    "print('array6:\\n', array6.tolist())\n",
    "print('array6 shape:', array6.shape)"
   ]
  },
  {
   "cell_type": "markdown",
   "id": "b2ea0d5f",
   "metadata": {},
   "source": [
    "## 넘파이의 ndarray의 데이터 세트 선택하기 - 인덱싱(Indexing)\n",
    "### 단일 값 추출"
   ]
  },
  {
   "cell_type": "code",
   "execution_count": 49,
   "id": "81353ba8",
   "metadata": {},
   "outputs": [
    {
     "name": "stdout",
     "output_type": "stream",
     "text": [
      "array1: [1 2 3 4 5 6 7 8 9]\n",
      "value: 3\n",
      "<class 'numpy.int32'>\n"
     ]
    }
   ],
   "source": [
    "array1 = np.arange(start=1, stop=10)\n",
    "print('array1:', array1)\n",
    "#index는 0부터 시작하므로 array[2]는 3번째 index 위치의 데이터값을 의미\n",
    "value = array1[2]\n",
    "print('value:', value)\n",
    "print(type(value)) #ndarray타입이 아닌 ndarray내의 데이터값의 타입"
   ]
  },
  {
   "cell_type": "code",
   "execution_count": 50,
   "id": "9ac54c61",
   "metadata": {},
   "outputs": [
    {
     "name": "stdout",
     "output_type": "stream",
     "text": [
      "맨 뒤의 값: 9 맨 뒤에서 두 번째 값: 8\n"
     ]
    }
   ],
   "source": [
    "print('맨 뒤의 값:', array1[-1], '맨 뒤에서 두 번째 값:', array1[-2])"
   ]
  },
  {
   "cell_type": "code",
   "execution_count": 51,
   "id": "1d5035d9",
   "metadata": {},
   "outputs": [
    {
     "name": "stdout",
     "output_type": "stream",
     "text": [
      "array1: [9 2 3 4 5 6 7 8 0]\n"
     ]
    }
   ],
   "source": [
    "#데이터값 수정\n",
    "array1[0] = 9\n",
    "array1[8] = 0\n",
    "print('array1:', array1)"
   ]
  },
  {
   "cell_type": "code",
   "execution_count": 66,
   "id": "d01ccd22",
   "metadata": {},
   "outputs": [
    {
     "name": "stdout",
     "output_type": "stream",
     "text": [
      "[[1 2 3]\n",
      " [4 5 6]\n",
      " [7 8 9]]\n",
      "(row=0, col=0) index 가리키는 값: 1\n",
      "(row=0, col=1) index 가리키는 값: 2\n",
      "(row=1, col=0) index 가리키는 값: 4\n",
      "(row=2, col=2) index 가리키는 값: 9\n"
     ]
    }
   ],
   "source": [
    "array1d = np.arange(start=1, stop=10)\n",
    "array2d = array1d.reshape(3,3)\n",
    "print(array2d)\n",
    "\n",
    "print('(row=0, col=0) index 가리키는 값:', array2d[0,0])\n",
    "print('(row=0, col=1) index 가리키는 값:', array2d[0,1])\n",
    "print('(row=1, col=0) index 가리키는 값:', array2d[1,0])\n",
    "print('(row=2, col=2) index 가리키는 값:', array2d[2,2])"
   ]
  },
  {
   "cell_type": "code",
   "execution_count": 56,
   "id": "4b9edbe2",
   "metadata": {},
   "outputs": [],
   "source": [
    "### 슬라이싱"
   ]
  },
  {
   "cell_type": "code",
   "execution_count": 57,
   "id": "27900cb9",
   "metadata": {},
   "outputs": [
    {
     "name": "stdout",
     "output_type": "stream",
     "text": [
      "[1 2 3]\n",
      "<class 'numpy.ndarray'>\n"
     ]
    }
   ],
   "source": [
    "array1 = np.arange(start=1, stop=10)\n",
    "array3 = array1[0:3]\n",
    "print(array3)\n",
    "print(type(array3))\n"
   ]
  },
  {
   "cell_type": "code",
   "execution_count": 59,
   "id": "a692f64d",
   "metadata": {},
   "outputs": [
    {
     "name": "stdout",
     "output_type": "stream",
     "text": [
      "[1 2 3]\n",
      "[4 5 6 7 8 9]\n",
      "[1 2 3 4 5 6 7 8 9]\n"
     ]
    }
   ],
   "source": [
    "array1 = np.arange(start=1, stop=10)\n",
    "array4 = array1[:3] #3까지\n",
    "print(array4)\n",
    "\n",
    "array5 = array1[3:] #3부터\n",
    "print(array5)\n",
    "\n",
    "array6 = array1[:] #다\n",
    "print(array6)"
   ]
  },
  {
   "cell_type": "code",
   "execution_count": 61,
   "id": "e4b6082e",
   "metadata": {},
   "outputs": [
    {
     "name": "stdout",
     "output_type": "stream",
     "text": [
      "array2d:\n",
      " [[1 2 3]\n",
      " [4 5 6]\n",
      " [7 8 9]]\n",
      "array2d[0:2, 0:2] \n",
      " [[1 2]\n",
      " [4 5]]\n",
      "array2d[1:3, 0:3] \n",
      " [[4 5 6]\n",
      " [7 8 9]]\n",
      "array2d[1:3, :] \n",
      " [[4 5 6]\n",
      " [7 8 9]]\n",
      "array2d[:, :] \n",
      " [[1 2 3]\n",
      " [4 5 6]\n",
      " [7 8 9]]\n",
      "array2d[:2, 1:] \n",
      " [[2 3]\n",
      " [5 6]]\n",
      "array2d[:2, 0] \n",
      " [1 4]\n"
     ]
    }
   ],
   "source": [
    "array1d = np.arange(start=1, stop=10)\n",
    "array2d = array1d.reshape(3,3)\n",
    "print('array2d:\\n', array2d)\n",
    "\n",
    "print('array2d[0:2, 0:2] \\n', array2d[0:2, 0:2])\n",
    "print('array2d[1:3, 0:3] \\n', array2d[1:3, 0:3])\n",
    "print('array2d[1:3, :] \\n', array2d[1:3, :])\n",
    "print('array2d[:, :] \\n', array2d[:, :])\n",
    "print('array2d[:2, 1:] \\n', array2d[:2, 1:])\n",
    "print('array2d[:2, 0] \\n', array2d[:2, 0])"
   ]
  },
  {
   "cell_type": "code",
   "execution_count": 62,
   "id": "8aa1d944",
   "metadata": {},
   "outputs": [
    {
     "name": "stdout",
     "output_type": "stream",
     "text": [
      "[1 2 3]\n",
      "[4 5 6]\n",
      "array2d[0] shape: (3,) array2d[1] shape: (3,)\n"
     ]
    }
   ],
   "source": [
    "#2차원에서 뒤 인덱스 없애면 1차원 row출력\n",
    "print(array2d[0])\n",
    "print(array2d[1])\n",
    "print('array2d[0] shape:', array2d[0].shape, 'array2d[1] shape:', array2d[1].shape)"
   ]
  },
  {
   "cell_type": "markdown",
   "id": "c0a4919e",
   "metadata": {},
   "source": [
    "### 펜시 인덱싱(Fancy Indexing): ndarray[ [ row ], column ]"
   ]
  },
  {
   "cell_type": "code",
   "execution_count": 65,
   "id": "df6c49ed",
   "metadata": {},
   "outputs": [
    {
     "name": "stdout",
     "output_type": "stream",
     "text": [
      "array2d[[0, 1], 2] =>  [3, 6]\n",
      "array2d[[0, 1], 0:2] =>  [[1, 2], [4, 5]]\n",
      "array2d[[0, 1]] =>  [[1, 2, 3], [4, 5, 6]]\n"
     ]
    }
   ],
   "source": [
    "array1d = np.arange(start=1, stop=10)\n",
    "array2d = array1d.reshape(3,3)\n",
    "\n",
    "array3 = array2d[[0,1], 2]\n",
    "print('array2d[[0, 1], 2] => ', array3.tolist())\n",
    "array4 = array2d[[0,1], 0:2]\n",
    "print('array2d[[0, 1], 0:2] => ', array4.tolist())\n",
    "array5 = array2d[[0,1]]\n",
    "print('array2d[[0, 1]] => ', array5.tolist())"
   ]
  },
  {
   "cell_type": "markdown",
   "id": "5ddbe4a3",
   "metadata": {},
   "source": [
    "### 불린 인덱싱(Boolean Indexing): ndarray[조건문]"
   ]
  },
  {
   "cell_type": "code",
   "execution_count": 67,
   "id": "199223d8",
   "metadata": {},
   "outputs": [
    {
     "name": "stdout",
     "output_type": "stream",
     "text": [
      "array1d > 5 불린 인덱싱 결과 값: [6 7 8 9]\n"
     ]
    }
   ],
   "source": [
    "array1d = np.arange(start=1, stop=10)\n",
    "#[] 안에 array1d > 5 Boolean indexing을 적용\n",
    "array3 = array1d[array1d>5]\n",
    "print('array1d > 5 불린 인덱싱 결과 값:', array3)"
   ]
  },
  {
   "cell_type": "code",
   "execution_count": 68,
   "id": "7f73fddb",
   "metadata": {},
   "outputs": [
    {
     "data": {
      "text/plain": [
       "array([False, False, False, False, False,  True,  True,  True,  True])"
      ]
     },
     "execution_count": 68,
     "metadata": {},
     "output_type": "execute_result"
    }
   ],
   "source": [
    "#조건만 출력시\n",
    "array1d > 5"
   ]
  },
  {
   "cell_type": "code",
   "execution_count": 70,
   "id": "ac19040b",
   "metadata": {},
   "outputs": [
    {
     "name": "stdout",
     "output_type": "stream",
     "text": [
      "불린 인덱스로 필터링 결과: [6 7 8 9]\n"
     ]
    }
   ],
   "source": [
    "boolean_indexes = np.array([False, False, False, False, False, True, True, True, True])\n",
    "array3 = array1d[boolean_indexes]\n",
    "print('불린 인덱스로 필터링 결과:', array3)"
   ]
  },
  {
   "cell_type": "code",
   "execution_count": 72,
   "id": "6b3b81f9",
   "metadata": {},
   "outputs": [
    {
     "name": "stdout",
     "output_type": "stream",
     "text": [
      "일반 인덱스로 필터링 결과: [6 7 8 9]\n"
     ]
    }
   ],
   "source": [
    "#직접 인덱스 집합을 만들어 대인한 것과 동일\n",
    "indexes = np.array([5, 6, 7, 8])\n",
    "array4 = array1d[indexes]\n",
    "print('일반 인덱스로 필터링 결과:', array4)"
   ]
  },
  {
   "cell_type": "markdown",
   "id": "94087722",
   "metadata": {},
   "source": [
    "## 행렬의 정렬 \n",
    "### sort()"
   ]
  },
  {
   "cell_type": "code",
   "execution_count": 75,
   "id": "204d1323",
   "metadata": {},
   "outputs": [
    {
     "name": "stdout",
     "output_type": "stream",
     "text": [
      "원본 행렬: [3 1 9 5]\n",
      "np.sort() 호출 후 반환된 정렬 행렬 [1 3 5 9]\n",
      "np.sort()호출 후 원본 행렬: [3 1 9 5]\n",
      "org_array.sort() 호출 후 반환된 행렬: None\n",
      "org_array.sort() 호출 후 원본 행렬: [1 3 5 9]\n"
     ]
    }
   ],
   "source": [
    "org_array = np.array([3,1,9,5])\n",
    "print('원본 행렬:', org_array)\n",
    "#np.sort()로 정렬\n",
    "sort_array1 = np.sort(org_array)\n",
    "print('np.sort() 호출 후 반환된 정렬 행렬', sort_array1)\n",
    "print('np.sort()호출 후 원본 행렬:', org_array)\n",
    "#ndarray.sort()로 정렬\n",
    "sort_array2 = org_array.sort()\n",
    "print('org_array.sort() 호출 후 반환된 행렬:', sort_array2)\n",
    "print('org_array.sort() 호출 후 원본 행렬:', org_array)"
   ]
  },
  {
   "cell_type": "code",
   "execution_count": 76,
   "id": "25feb6c5",
   "metadata": {},
   "outputs": [
    {
     "name": "stdout",
     "output_type": "stream",
     "text": [
      "내림차순으로 정렬: [9 5 3 1]\n"
     ]
    }
   ],
   "source": [
    "#내림차순 정렬\n",
    "sort_array1_desc = np.sort(org_array)[::-1]\n",
    "print('내림차순으로 정렬:', sort_array1_desc)"
   ]
  },
  {
   "cell_type": "code",
   "execution_count": 78,
   "id": "16c7c7b2",
   "metadata": {},
   "outputs": [
    {
     "name": "stdout",
     "output_type": "stream",
     "text": [
      "로우 방향으로 정렬:\n",
      " [[ 7  1]\n",
      " [ 8 12]]\n",
      "칼럼 방향으로 정렬:\n",
      " [[ 8 12]\n",
      " [ 1  7]]\n"
     ]
    }
   ],
   "source": [
    "#2차원 정렬\n",
    "array2d = np.array([[8,12], \n",
    "                    [7,1]])\n",
    "sort_array2d_axis0 = np.sort(array2d, axis=0)\n",
    "print('로우 방향으로 정렬:\\n', sort_array2d_axis0)\n",
    "\n",
    "sort_array2d_axis1 = np.sort(array2d, axis=1)\n",
    "print('칼럼 방향으로 정렬:\\n', sort_array2d_axis1)\n"
   ]
  },
  {
   "cell_type": "markdown",
   "id": "d4f97480",
   "metadata": {},
   "source": [
    "### 정렬된 행렬의 인덱스를 반환하기: argsort()"
   ]
  },
  {
   "cell_type": "code",
   "execution_count": 79,
   "id": "1a3a2ac4",
   "metadata": {},
   "outputs": [
    {
     "name": "stdout",
     "output_type": "stream",
     "text": [
      "<class 'numpy.ndarray'>\n",
      "행렬 정렬 시 원본 행렬의 인덱스: [1 0 3 2]\n"
     ]
    }
   ],
   "source": [
    "org_array = np.array([3, 1, 9, 5])\n",
    "sort_indices = np.argsort(org_array)\n",
    "print(type(sort_indices))\n",
    "print('행렬 정렬 시 원본 행렬의 인덱스:', sort_indices)"
   ]
  },
  {
   "cell_type": "code",
   "execution_count": 81,
   "id": "755fb46e",
   "metadata": {},
   "outputs": [
    {
     "name": "stdout",
     "output_type": "stream",
     "text": [
      "<class 'numpy.ndarray'>\n",
      "행렬 내림차순 정렬 시 원본 행렬의 인덱스: [2 3 0 1]\n"
     ]
    }
   ],
   "source": [
    "org_array = np.array([3, 1, 9, 5])\n",
    "sort_indices_desc = np.argsort(org_array)[::-1]\n",
    "print(type(sort_indices))\n",
    "print('행렬 내림차순 정렬 시 원본 행렬의 인덱스:', sort_indices_desc)"
   ]
  },
  {
   "cell_type": "code",
   "execution_count": 82,
   "id": "4183f870",
   "metadata": {},
   "outputs": [
    {
     "name": "stdout",
     "output_type": "stream",
     "text": [
      "성적 오름차순 정렬 시 score_array의 인덱스: [0 2 4 1 3]\n",
      "성적 오름차순 정렬 시 name_array의 이름 출력: ['John' 'Sarah' 'Samuel' 'Mike' 'Kate']\n"
     ]
    }
   ],
   "source": [
    "import numpy as np\n",
    "\n",
    "name_array = np.array(['John', 'Mike', 'Sarah', 'Kate', 'Samuel'])\n",
    "score_array = np.array([78, 95, 84, 98, 88])\n",
    "\n",
    "sort_indices_asc = np.argsort(score_array)\n",
    "print('성적 오름차순 정렬 시 score_array의 인덱스:', sort_indices_asc)\n",
    "print('성적 오름차순 정렬 시 name_array의 이름 출력:', name_array[sort_indices_asc])"
   ]
  }
 ],
 "metadata": {
  "kernelspec": {
   "display_name": "Python 3 (ipykernel)",
   "language": "python",
   "name": "python3"
  },
  "language_info": {
   "codemirror_mode": {
    "name": "ipython",
    "version": 3
   },
   "file_extension": ".py",
   "mimetype": "text/x-python",
   "name": "python",
   "nbconvert_exporter": "python",
   "pygments_lexer": "ipython3",
   "version": "3.8.11"
  }
 },
 "nbformat": 4,
 "nbformat_minor": 5
}
